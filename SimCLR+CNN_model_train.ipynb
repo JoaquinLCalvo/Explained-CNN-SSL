{
  "cells": [
    {
      "cell_type": "code",
      "execution_count": 4,
      "metadata": {
        "colab": {
          "base_uri": "https://localhost:8080/"
        },
        "id": "nJ2X_5sG7Qox",
        "outputId": "d1c25f6c-8143-4ce5-b18f-ebfd45606166"
      },
      "outputs": [
        {
          "output_type": "stream",
          "name": "stdout",
          "text": [
            "\u001b[33mWARNING: Ignoring version 0.6.0.post1 of lightning-bolts since it has invalid metadata:\n",
            "Requested lightning-bolts from https://files.pythonhosted.org/packages/b7/73/b992893803a7d7ec8afe465f98d5b2808de22da11f3770d6094e08393aee/lightning_bolts-0.6.0.post1-py3-none-any.whl (from -r https://raw.githubusercontent.com/JoaquinLCalvo/Explained-CNN-SSL/refs/heads/explainability/requirements.txt (line 4)) has invalid metadata: .* suffix can only be used with `==` or `!=` operators\n",
            "    torchvision (>=0.10.*) ; extra == 'dev'\n",
            "                 ~~~~~~~^\n",
            "Please use pip<24.1 if you need to use this version.\u001b[0m\u001b[33m\n",
            "\u001b[0m\u001b[33mWARNING: Ignoring version 0.6.0 of lightning-bolts since it has invalid metadata:\n",
            "Requested lightning-bolts from https://files.pythonhosted.org/packages/05/5d/08864c691b9d2731adcb157bcf26de69bfaab5fce70853380c37ca884a42/lightning_bolts-0.6.0-py3-none-any.whl (from -r https://raw.githubusercontent.com/JoaquinLCalvo/Explained-CNN-SSL/refs/heads/explainability/requirements.txt (line 4)) has invalid metadata: .* suffix can only be used with `==` or `!=` operators\n",
            "    torchvision (>=0.10.*) ; extra == 'dev'\n",
            "                 ~~~~~~~^\n",
            "Please use pip<24.1 if you need to use this version.\u001b[0m\u001b[33m\n",
            "\u001b[2K   \u001b[90m━━━━━━━━━━━━━━━━━━━━━━━━━━━━━━━━━━━━━━━━\u001b[0m \u001b[32m815.2/815.2 kB\u001b[0m \u001b[31m18.3 MB/s\u001b[0m eta \u001b[36m0:00:00\u001b[0m\n",
            "\u001b[2K   \u001b[90m━━━━━━━━━━━━━━━━━━━━━━━━━━━━━━━━━━━━━━━━\u001b[0m \u001b[32m316.8/316.8 kB\u001b[0m \u001b[31m26.9 MB/s\u001b[0m eta \u001b[36m0:00:00\u001b[0m\n",
            "\u001b[2K   \u001b[90m━━━━━━━━━━━━━━━━━━━━━━━━━━━━━━━━━━━━━━━━\u001b[0m \u001b[32m926.4/926.4 kB\u001b[0m \u001b[31m48.1 MB/s\u001b[0m eta \u001b[36m0:00:00\u001b[0m\n",
            "\u001b[2K   \u001b[90m━━━━━━━━━━━━━━━━━━━━━━━━━━━━━━━━━━━━━━━━\u001b[0m \u001b[32m218.7/218.7 kB\u001b[0m \u001b[31m20.3 MB/s\u001b[0m eta \u001b[36m0:00:00\u001b[0m\n",
            "\u001b[2K   \u001b[90m━━━━━━━━━━━━━━━━━━━━━━━━━━━━━━━━━━━━━━━━\u001b[0m \u001b[32m1.3/1.3 MB\u001b[0m \u001b[31m57.7 MB/s\u001b[0m eta \u001b[36m0:00:00\u001b[0m\n",
            "\u001b[2K   \u001b[90m━━━━━━━━━━━━━━━━━━━━━━━━━━━━━━━━━━━━━━━━\u001b[0m \u001b[32m99.0/99.0 kB\u001b[0m \u001b[31m8.8 MB/s\u001b[0m eta \u001b[36m0:00:00\u001b[0m\n",
            "\u001b[2K   \u001b[90m━━━━━━━━━━━━━━━━━━━━━━━━━━━━━━━━━━━━━━━━\u001b[0m \u001b[32m4.3/4.3 MB\u001b[0m \u001b[31m88.4 MB/s\u001b[0m eta \u001b[36m0:00:00\u001b[0m\n",
            "\u001b[2K   \u001b[90m━━━━━━━━━━━━━━━━━━━━━━━━━━━━━━━━━━━━━━━━\u001b[0m \u001b[32m469.0/469.0 kB\u001b[0m \u001b[31m35.5 MB/s\u001b[0m eta \u001b[36m0:00:00\u001b[0m\n",
            "\u001b[?25h"
          ]
        }
      ],
      "source": [
        "!pip install --quiet -r https://raw.githubusercontent.com/JoaquinLCalvo/Explained-CNN-SSL/refs/heads/explainability/requirements.txt"
      ]
    },
    {
      "cell_type": "code",
      "execution_count": 5,
      "metadata": {
        "colab": {
          "base_uri": "https://localhost:8080/",
          "height": 34
        },
        "id": "kp_z2uj77UXD",
        "outputId": "d5ed4119-50d1-4ab3-f23c-d2a1c4bd4e57"
      },
      "outputs": [
        {
          "output_type": "display_data",
          "data": {
            "text/plain": [
              "<Figure size 640x480 with 0 Axes>"
            ]
          },
          "metadata": {}
        }
      ],
      "source": [
        "import os\n",
        "import urllib.request\n",
        "from copy import deepcopy\n",
        "from urllib.error import HTTPError\n",
        "\n",
        "import matplotlib\n",
        "import matplotlib.pyplot as plt\n",
        "import matplotlib_inline.backend_inline\n",
        "import pytorch_lightning as pl\n",
        "import seaborn as sns\n",
        "import torch\n",
        "import torch.nn as nn\n",
        "import torch.nn.functional as F\n",
        "import torch.optim as optim\n",
        "import torch.utils.data as data\n",
        "import torchvision\n",
        "import pytorch_lightning as pl\n",
        "from pytorch_lightning.callbacks import LearningRateMonitor, ModelCheckpoint\n",
        "from torchvision import transforms\n",
        "from torchvision.datasets import STL10\n",
        "from tqdm.notebook import tqdm\n",
        "\n",
        "plt.set_cmap(\"cividis\")\n",
        "%matplotlib inline\n",
        "matplotlib_inline.backend_inline.set_matplotlib_formats(\"svg\", \"pdf\")  # For export\n",
        "matplotlib.rcParams[\"lines.linewidth\"] = 2.0\n",
        "sns.set()\n",
        "\n",
        "# Import tensorboard\n",
        "# %load_ext tensorboard"
      ]
    },
    {
      "cell_type": "code",
      "execution_count": 6,
      "metadata": {
        "colab": {
          "base_uri": "https://localhost:8080/"
        },
        "id": "4nrL0bJt7UZv",
        "outputId": "e3c2d6a1-4230-4508-9232-5c623978a732"
      },
      "outputs": [
        {
          "output_type": "stream",
          "name": "stdout",
          "text": [
            "Downloading http://ai.stanford.edu/~acoates/stl10/stl10_binary.tar.gz to data/stl10_binary.tar.gz\n"
          ]
        },
        {
          "output_type": "stream",
          "name": "stderr",
          "text": [
            "100%|██████████| 2.64G/2.64G [02:47<00:00, 15.7MB/s]\n"
          ]
        },
        {
          "output_type": "stream",
          "name": "stdout",
          "text": [
            "Extracting data/stl10_binary.tar.gz to data/\n",
            "Files already downloaded and verified\n"
          ]
        }
      ],
      "source": [
        "## Data Preparation\n",
        "\n",
        "# Path configurations\n",
        "DATASET_PATH = \"data/\"\n",
        "NUM_WORKERS = os.cpu_count()\n",
        "\n",
        "# Data augmentations for SimCLR\n",
        "contrast_transforms = transforms.Compose([\n",
        "    transforms.RandomHorizontalFlip(),\n",
        "    transforms.RandomResizedCrop(size=96),\n",
        "    transforms.RandomApply([\n",
        "        transforms.ColorJitter(brightness=0.5, contrast=0.5, saturation=0.5, hue=0.1)\n",
        "    ], p=0.8),\n",
        "    transforms.RandomGrayscale(p=0.2),\n",
        "    transforms.GaussianBlur(kernel_size=9),\n",
        "    transforms.ToTensor(),\n",
        "    transforms.Normalize((0.5,), (0.5,))\n",
        "])\n",
        "\n",
        "# Datasets for contrastive learning\n",
        "unlabeled_data = STL10(\n",
        "    root=DATASET_PATH,\n",
        "    split=\"unlabeled\",\n",
        "    download=True,\n",
        "    transform=contrast_transforms\n",
        ")\n",
        "train_data_contrast = STL10(\n",
        "    root=DATASET_PATH,\n",
        "    split=\"train\",\n",
        "    download=True,\n",
        "    transform=contrast_transforms\n",
        ")\n"
      ]
    },
    {
      "cell_type": "code",
      "execution_count": 7,
      "metadata": {
        "id": "efngwUkA7Uce"
      },
      "outputs": [],
      "source": [
        "## SimCLR model definition\n",
        "\n",
        "class SimCLR(pl.LightningModule):\n",
        "    def __init__(self, hidden_dim=128, num_classes=10, lr=1e-3, temperature=0.07, weight_decay=1e-4, max_epochs=100):\n",
        "        super().__init__()\n",
        "        self.save_hyperparameters()\n",
        "\n",
        "        # INTERNAL NOTES\n",
        "        # 1. In the future, try with other backbones (could be Resnet50, could be some EfficientNet)\n",
        "        # 2. Since SimCLR learns representations directly from the data, I'm not using the pre-trained weights by now\n",
        "        # to avoid the bias learned from ImageNet-like datasets. However, this should also be tested.\n",
        "        # Tip: for larger datasets, pretrained=False should work better (because of what I've just exposed)\n",
        "        # while for small datasets, the pretrained weights might provide a performance boost\n",
        "        # Define ResNet backbone\n",
        "        self.convnet = torchvision.models.resnet18(pretrained=False)\n",
        "        self.convnet.fc = nn.Sequential(\n",
        "            nn.Linear(self.convnet.fc.in_features, 4 * hidden_dim),\n",
        "            nn.ReLU(inplace=True),\n",
        "            nn.Linear(4 * hidden_dim, hidden_dim)\n",
        "        )\n",
        "\n",
        "        self.classifier = nn.Linear(hidden_dim, num_classes)\n",
        "\n",
        "    def configure_optimizers(self):\n",
        "        optimizer = optim.AdamW(self.parameters(), lr=self.hparams.lr, weight_decay=self.hparams.weight_decay)\n",
        "        scheduler = optim.lr_scheduler.CosineAnnealingLR(optimizer, T_max=self.hparams.max_epochs, eta_min=self.hparams.lr / 50)\n",
        "        return [optimizer], [scheduler]\n",
        "\n",
        "    def forward(self, batch, classify=False):\n",
        "        if classify:\n",
        "            imgs = batch\n",
        "            feats = self.convnet(imgs)\n",
        "            return self.classifier(feats)\n",
        "        else:\n",
        "            imgs = batch[0]\n",
        "            # labels = batch[1]\n",
        "            # imgs = torch.cat(imgs, dim=0)\n",
        "            feats = self.convnet(imgs)\n",
        "            cos_sim = F.cosine_similarity(feats[:, None, :], feats[None, :, :], dim=-1)\n",
        "            self_mask = torch.eye(cos_sim.shape[0], device=cos_sim.device, dtype=torch.bool)\n",
        "            cos_sim.masked_fill_(self_mask, -9e15)\n",
        "            pos_mask = self_mask.roll(shifts=cos_sim.shape[0] // 2, dims=0)\n",
        "            cos_sim = cos_sim / self.hparams.temperature\n",
        "            nll = -cos_sim[pos_mask] + torch.logsumexp(cos_sim, dim=-1)\n",
        "            return nll.mean()\n",
        "\n",
        "    def training_step(self, batch, batch_idx):\n",
        "        loss = self.forward(batch)\n",
        "        self.log(\"train_loss\", loss)\n",
        "        return loss\n"
      ]
    },
    {
      "cell_type": "code",
      "execution_count": 8,
      "metadata": {
        "colab": {
          "base_uri": "https://localhost:8080/",
          "height": 434,
          "referenced_widgets": [
            "51c6e27cdaff42a783484f95e672de2a",
            "e48b1d7ee3d940f497bee55865f14a5f",
            "dd72583edef449c9ad0a98f18b6c9a82",
            "e3e4765d833f47e7b4362962f730f290",
            "94cd6704de7d443e919b3b7f8c8ad774",
            "6de91458075d474f9b8cc15c00053f51",
            "5c3a48b5cf2d4fb0a94c87482c8f8539",
            "920d2a0d070c4712878919f3bcecf19e",
            "417f4f70b8a14748a173db024e15e9e7",
            "849f86af23ba4f309da635476430f85f",
            "09ec8540fee34b7f88eae8bb1cdd551c"
          ]
        },
        "id": "HrJVtnDv7Ue-",
        "outputId": "953c1278-7f04-407c-8c0b-cb7fbd66757b"
      },
      "outputs": [
        {
          "output_type": "stream",
          "name": "stderr",
          "text": [
            "INFO:pytorch_lightning.utilities.rank_zero:GPU available: True (cuda), used: True\n",
            "INFO:pytorch_lightning.utilities.rank_zero:TPU available: False, using: 0 TPU cores\n",
            "INFO:pytorch_lightning.utilities.rank_zero:HPU available: False, using: 0 HPUs\n",
            "/usr/local/lib/python3.10/dist-packages/torchvision/models/_utils.py:208: UserWarning: The parameter 'pretrained' is deprecated since 0.13 and may be removed in the future, please use 'weights' instead.\n",
            "  warnings.warn(\n",
            "/usr/local/lib/python3.10/dist-packages/torchvision/models/_utils.py:223: UserWarning: Arguments other than a weight enum or `None` for 'weights' are deprecated since 0.13 and may be removed in the future. The current behavior is equivalent to passing `weights=None`.\n",
            "  warnings.warn(msg)\n",
            "INFO:pytorch_lightning.accelerators.cuda:LOCAL_RANK: 0 - CUDA_VISIBLE_DEVICES: [0]\n",
            "INFO:pytorch_lightning.callbacks.model_summary:\n",
            "  | Name       | Type   | Params | Mode \n",
            "----------------------------------------------\n",
            "0 | convnet    | ResNet | 11.5 M | train\n",
            "1 | classifier | Linear | 1.3 K  | train\n",
            "----------------------------------------------\n",
            "11.5 M    Trainable params\n",
            "0         Non-trainable params\n",
            "11.5 M    Total params\n",
            "46.024    Total estimated model params size (MB)\n",
            "72        Modules in train mode\n",
            "0         Modules in eval mode\n"
          ]
        },
        {
          "output_type": "display_data",
          "data": {
            "text/plain": [
              "Training: |          | 0/? [00:00<?, ?it/s]"
            ],
            "application/vnd.jupyter.widget-view+json": {
              "version_major": 2,
              "version_minor": 0,
              "model_id": "51c6e27cdaff42a783484f95e672de2a"
            }
          },
          "metadata": {}
        },
        {
          "output_type": "stream",
          "name": "stderr",
          "text": [
            "INFO:pytorch_lightning.utilities.rank_zero:`Trainer.fit` stopped: `max_epochs=1` reached.\n"
          ]
        }
      ],
      "source": [
        "## Train SimCLR Model\n",
        "\n",
        "def train_simclr(batch_size=256, max_epochs=100, **kwargs):\n",
        "    trainer = pl.Trainer(\n",
        "        max_epochs=max_epochs,\n",
        "        accelerator=\"gpu\",\n",
        "        devices=1,\n",
        "        callbacks=[\n",
        "            ModelCheckpoint(save_weights_only=True, monitor=\"train_loss\", mode=\"min\"),\n",
        "            LearningRateMonitor(logging_interval=\"epoch\"),\n",
        "        ]\n",
        "    )\n",
        "    train_loader = torch.utils.data.DataLoader(unlabeled_data, batch_size=batch_size, shuffle=True, num_workers=NUM_WORKERS)\n",
        "    model = SimCLR(num_classes=10, max_epochs=max_epochs, **kwargs)\n",
        "    trainer.fit(model, train_loader)\n",
        "    return model\n",
        "\n",
        "# Train the SimCLR model\n",
        "simclr_model = train_simclr(hidden_dim=128, lr=1e-3, temperature=0.07, weight_decay=1e-4, max_epochs=1)\n"
      ]
    },
    {
      "cell_type": "code",
      "execution_count": 9,
      "metadata": {
        "id": "KE0lbR907Uhs",
        "outputId": "b5e7460c-da23-433e-ed80-cb1b9985b5c7",
        "colab": {
          "base_uri": "https://localhost:8080/",
          "height": 34
        }
      },
      "outputs": [
        {
          "output_type": "stream",
          "name": "stdout",
          "text": [
            "Model saved to simclr_model.pth\n"
          ]
        },
        {
          "output_type": "display_data",
          "data": {
            "text/plain": [
              "<IPython.core.display.Javascript object>"
            ],
            "application/javascript": [
              "\n",
              "    async function download(id, filename, size) {\n",
              "      if (!google.colab.kernel.accessAllowed) {\n",
              "        return;\n",
              "      }\n",
              "      const div = document.createElement('div');\n",
              "      const label = document.createElement('label');\n",
              "      label.textContent = `Downloading \"${filename}\": `;\n",
              "      div.appendChild(label);\n",
              "      const progress = document.createElement('progress');\n",
              "      progress.max = size;\n",
              "      div.appendChild(progress);\n",
              "      document.body.appendChild(div);\n",
              "\n",
              "      const buffers = [];\n",
              "      let downloaded = 0;\n",
              "\n",
              "      const channel = await google.colab.kernel.comms.open(id);\n",
              "      // Send a message to notify the kernel that we're ready.\n",
              "      channel.send({})\n",
              "\n",
              "      for await (const message of channel.messages) {\n",
              "        // Send a message to notify the kernel that we're ready.\n",
              "        channel.send({})\n",
              "        if (message.buffers) {\n",
              "          for (const buffer of message.buffers) {\n",
              "            buffers.push(buffer);\n",
              "            downloaded += buffer.byteLength;\n",
              "            progress.value = downloaded;\n",
              "          }\n",
              "        }\n",
              "      }\n",
              "      const blob = new Blob(buffers, {type: 'application/binary'});\n",
              "      const a = document.createElement('a');\n",
              "      a.href = window.URL.createObjectURL(blob);\n",
              "      a.download = filename;\n",
              "      div.appendChild(a);\n",
              "      a.click();\n",
              "      div.remove();\n",
              "    }\n",
              "  "
            ]
          },
          "metadata": {}
        },
        {
          "output_type": "display_data",
          "data": {
            "text/plain": [
              "<IPython.core.display.Javascript object>"
            ],
            "application/javascript": [
              "download(\"download_1acbc68a-cc08-4b8c-8ea3-ad3183532606\", \"simclr_model.pth\", 46105088)"
            ]
          },
          "metadata": {}
        }
      ],
      "source": [
        "## Save the model\n",
        "# Path to save the model on Colab\n",
        "model_save_path = \"simclr_model.pth\"\n",
        "\n",
        "# Save the model's state_dict\n",
        "torch.save(simclr_model.state_dict(), model_save_path)\n",
        "print(f\"Model saved to {model_save_path}\")\n",
        "\n",
        "# Download the model to your local machine\n",
        "from google.colab import files\n",
        "files.download(model_save_path)"
      ]
    },
    {
      "cell_type": "code",
      "execution_count": null,
      "metadata": {
        "id": "9gpbqr057Ush"
      },
      "outputs": [],
      "source": [
        "## Define MLP Classifier\n",
        "\n",
        "class MLPClassifier(pl.LightningModule):\n",
        "    def __init__(self, feature_dim, num_classes=10, hidden_dim=256, lr=1e-3, weight_decay=1e-4, max_epochs=100):\n",
        "        super().__init__()\n",
        "        self.save_hyperparameters()\n",
        "\n",
        "        # Define the MLP architecture\n",
        "        self.model = nn.Sequential(\n",
        "            nn.Linear(feature_dim, hidden_dim),\n",
        "            nn.ReLU(),\n",
        "            nn.Dropout(0.3),\n",
        "            nn.Linear(hidden_dim, hidden_dim),\n",
        "            nn.ReLU(),\n",
        "            nn.Dropout(0.3),\n",
        "            nn.Linear(hidden_dim, num_classes)\n",
        "        )\n",
        "\n",
        "    def configure_optimizers(self):\n",
        "        optimizer = optim.AdamW(self.parameters(), lr=self.hparams.lr, weight_decay=self.hparams.weight_decay)\n",
        "        scheduler = optim.lr_scheduler.CosineAnnealingLR(optimizer, T_max=self.hparams.max_epochs, eta_min=self.hparams.lr / 50)\n",
        "        return [optimizer], [scheduler]\n",
        "\n",
        "    def _calculate_loss(self, batch, mode=\"train\"):\n",
        "        feats, labels = batch\n",
        "        preds = self.model(feats)\n",
        "        loss = F.cross_entropy(preds, labels)\n",
        "        acc = (preds.argmax(dim=-1) == labels).float().mean()\n",
        "\n",
        "        # Log loss and accuracy\n",
        "        self.log(f\"{mode}_loss\", loss, prog_bar=True)\n",
        "        self.log(f\"{mode}_acc\", acc, prog_bar=True)\n",
        "        return loss\n",
        "\n",
        "    def training_step(self, batch, batch_idx):\n",
        "        return self._calculate_loss(batch, mode=\"train\")\n",
        "\n",
        "    def validation_step(self, batch, batch_idx):\n",
        "        self._calculate_loss(batch, mode=\"val\")\n",
        "\n",
        "    def test_step(self, batch, batch_idx):\n",
        "        self._calculate_loss(batch, mode=\"test\")"
      ]
    },
    {
      "cell_type": "code",
      "execution_count": null,
      "metadata": {
        "id": "4tPYqz6j7UvO"
      },
      "outputs": [],
      "source": [
        "## Train the MLP Classifier\n",
        "\n",
        "def train_mlp(batch_size, train_feats_data, test_feats_data, max_epochs=100, **kwargs):\n",
        "    trainer = pl.Trainer(\n",
        "        max_epochs=max_epochs,\n",
        "        accelerator=\"gpu\",\n",
        "        devices=1,\n",
        "        callbacks=[\n",
        "            pl.callbacks.ModelCheckpoint(save_weights_only=True, monitor=\"val_acc\", mode=\"max\"),\n",
        "            pl.callbacks.LearningRateMonitor(\"epoch\"),\n",
        "        ],\n",
        "    )\n",
        "\n",
        "    # Data loaders\n",
        "    train_loader = torch.utils.data.DataLoader(\n",
        "        train_feats_data, batch_size=batch_size, shuffle=True, drop_last=False, num_workers=4\n",
        "    )\n",
        "    test_loader = torch.utils.data.DataLoader(\n",
        "        test_feats_data, batch_size=batch_size, shuffle=False, drop_last=False, num_workers=4\n",
        "    )\n",
        "\n",
        "    # Train the MLP\n",
        "    model = MLPClassifier(num_classes=10, max_epochs=max_epochs, feature_dim=96, **kwargs)\n",
        "    trainer.fit(model, train_loader, test_loader)\n",
        "\n",
        "    # Test the model\n",
        "    test_result = trainer.test(model, test_loader, verbose=False)\n",
        "    print(f\"Test accuracy: {test_result[0]['test_acc'] * 100:.2f}%\")\n",
        "\n",
        "    return model\n",
        "\n",
        "# mlp_model = train_mlp(batch_size=256, train_feats_data=train_data_contrast, test_feats_data=train_data_contrast, max_epochs=10)\n"
      ]
    },
    {
      "cell_type": "code",
      "execution_count": 10,
      "metadata": {
        "id": "mcNzmQHd7Uxr"
      },
      "outputs": [],
      "source": [
        "import numpy as np\n",
        "import matplotlib.pyplot as plt\n",
        "from captum.attr import IntegratedGradients\n",
        "\n",
        "def run_explainability(model):\n",
        "    # Select the target class for which you want to explain predictions\n",
        "    dataset = train_data_contrast\n",
        "\n",
        "    # Get a single example from the dataset\n",
        "    input_tensor, label = dataset[0]\n",
        "    input_tensor = input_tensor.unsqueeze(0)\n",
        "\n",
        "    print(f\"Got an example input tensor of shape {input_tensor.shape}\")\n",
        "\n",
        "    with torch.no_grad():\n",
        "        logits = model(input_tensor, classify=True)\n",
        "        target_class = logits.argmax(dim=-1).item()\n",
        "\n",
        "    print(f\"Predicted class: {target_class}\")\n",
        "\n",
        "    def forward_fn(inputs):\n",
        "        if inputs.dim() == 3:\n",
        "            inputs = inputs.unsqueeze(0)\n",
        "        return model(inputs, classify=True)\n",
        "\n",
        "    ig = IntegratedGradients(forward_fn)\n",
        "    attributions, delta = ig.attribute(\n",
        "        input_tensor, target=target_class, return_convergence_delta=True\n",
        "    )\n",
        "    attributions_np = attributions[0].cpu().detach().numpy()\n",
        "\n",
        "    attributions_np = (attributions_np - attributions_np.min()) / (attributions_np.max() - attributions_np.min())\n",
        "\n",
        "    print(\"Preparing image with attributions\")\n",
        "    fig, ax = plt.subplots(1, 2, figsize=(10, 5))\n",
        "    ax[0].imshow(input_tensor[0].cpu().permute(1, 2, 0))\n",
        "    ax[0].set_title('Original Image')\n",
        "    ax[1].imshow(attributions_np.transpose(1, 2, 0))\n",
        "    ax[1].set_title('Attributions')\n",
        "    plt.show()\n"
      ]
    },
    {
      "cell_type": "code",
      "execution_count": 11,
      "metadata": {
        "id": "33nF2jocFtko",
        "outputId": "21143a59-e6b3-4878-86bb-8fdefe1c9684",
        "colab": {
          "base_uri": "https://localhost:8080/",
          "height": 550
        }
      },
      "outputs": [
        {
          "output_type": "stream",
          "name": "stderr",
          "text": [
            "<ipython-input-11-f2349ee7ff81>:5: FutureWarning: You are using `torch.load` with `weights_only=False` (the current default value), which uses the default pickle module implicitly. It is possible to construct malicious pickle data which will execute arbitrary code during unpickling (See https://github.com/pytorch/pytorch/blob/main/SECURITY.md#untrusted-models for more details). In a future release, the default value for `weights_only` will be flipped to `True`. This limits the functions that could be executed during unpickling. Arbitrary objects will no longer be allowed to be loaded via this mode unless they are explicitly allowlisted by the user via `torch.serialization.add_safe_globals`. We recommend you start setting `weights_only=True` for any use case where you don't have full control of the loaded file. Please open an issue on GitHub for any issues related to this experimental feature.\n",
            "  simclr_model.load_state_dict(torch.load(\"simclr_model.pth\"))\n"
          ]
        },
        {
          "output_type": "stream",
          "name": "stdout",
          "text": [
            "Got an example input tensor of shape torch.Size([1, 3, 96, 96])\n",
            "Predicted class: 2\n"
          ]
        },
        {
          "output_type": "stream",
          "name": "stderr",
          "text": [
            "WARNING:matplotlib.image:Clipping input data to the valid range for imshow with RGB data ([0..1] for floats or [0..255] for integers).\n"
          ]
        },
        {
          "output_type": "stream",
          "name": "stdout",
          "text": [
            "Preparing image with attributions\n"
          ]
        },
        {
          "output_type": "display_data",
          "data": {
            "text/plain": [
              "<Figure size 1000x500 with 2 Axes>"
            ],
            "image/svg+xml": "<?xml version=\"1.0\" encoding=\"utf-8\" standalone=\"no\"?>\n<!DOCTYPE svg PUBLIC \"-//W3C//DTD SVG 1.1//EN\"\n  \"http://www.w3.org/Graphics/SVG/1.1/DTD/svg11.dtd\">\n<svg xmlns:xlink=\"http://www.w3.org/1999/xlink\" width=\"595.8975pt\" height=\"303.300426pt\" viewBox=\"0 0 595.8975 303.300426\" xmlns=\"http://www.w3.org/2000/svg\" version=\"1.1\">\n <metadata>\n  <rdf:RDF xmlns:dc=\"http://purl.org/dc/elements/1.1/\" xmlns:cc=\"http://creativecommons.org/ns#\" xmlns:rdf=\"http://www.w3.org/1999/02/22-rdf-syntax-ns#\">\n   <cc:Work>\n    <dc:type rdf:resource=\"http://purl.org/dc/dcmitype/StillImage\"/>\n    <dc:date>2024-12-08T18:20:35.337402</dc:date>\n    <dc:format>image/svg+xml</dc:format>\n    <dc:creator>\n     <cc:Agent>\n      <dc:title>Matplotlib v3.8.0, https://matplotlib.org/</dc:title>\n     </cc:Agent>\n    </dc:creator>\n   </cc:Work>\n  </rdf:RDF>\n </metadata>\n <defs>\n  <style type=\"text/css\">*{stroke-linejoin: round; stroke-linecap: butt}</style>\n </defs>\n <g id=\"figure_1\">\n  <g id=\"patch_1\">\n   <path d=\"M 0 303.300426 \nL 595.8975 303.300426 \nL 595.8975 0 \nL 0 0 \nz\n\" style=\"fill: #ffffff\"/>\n  </g>\n  <g id=\"axes_1\">\n   <g id=\"patch_2\">\n    <path d=\"M 30.6975 275.954489 \nL 284.333864 275.954489 \nL 284.333864 22.318125 \nL 30.6975 22.318125 \nz\n\" style=\"fill: #eaeaf2\"/>\n   </g>\n   <g clip-path=\"url(#p8bd0ca5427)\">\n    <image xlink:href=\"data:image/png;base64,\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\" id=\"image9008c72064\" transform=\"scale(1 -1) translate(0 -254.16)\" x=\"30.6975\" y=\"-21.794489\" width=\"254.16\" height=\"254.16\"/>\n   </g>\n   <g id=\"matplotlib.axis_1\">\n    <g id=\"xtick_1\">\n     <g id=\"line2d_1\">\n      <path d=\"M 32.018523 275.954489 \nL 32.018523 22.318125 \n\" clip-path=\"url(#p8bd0ca5427)\" style=\"fill: none; stroke: #ffffff; stroke-linecap: round\"/>\n     </g>\n     <g id=\"text_1\">\n      <!-- 0 -->\n      <g style=\"fill: #262626\" transform=\"translate(28.519148 293.81277) scale(0.11 -0.11)\">\n       <defs>\n        <path id=\"DejaVuSans-30\" d=\"M 2034 4250 \nQ 1547 4250 1301 3770 \nQ 1056 3291 1056 2328 \nQ 1056 1369 1301 889 \nQ 1547 409 2034 409 \nQ 2525 409 2770 889 \nQ 3016 1369 3016 2328 \nQ 3016 3291 2770 3770 \nQ 2525 4250 2034 4250 \nz\nM 2034 4750 \nQ 2819 4750 3233 4129 \nQ 3647 3509 3647 2328 \nQ 3647 1150 3233 529 \nQ 2819 -91 2034 -91 \nQ 1250 -91 836 529 \nQ 422 1150 422 2328 \nQ 422 3509 836 4129 \nQ 1250 4750 2034 4750 \nz\n\" transform=\"scale(0.015625)\"/>\n       </defs>\n       <use xlink:href=\"#DejaVuSans-30\"/>\n      </g>\n     </g>\n    </g>\n    <g id=\"xtick_2\">\n     <g id=\"line2d_2\">\n      <path d=\"M 84.859432 275.954489 \nL 84.859432 22.318125 \n\" clip-path=\"url(#p8bd0ca5427)\" style=\"fill: none; stroke: #ffffff; stroke-linecap: round\"/>\n     </g>\n     <g id=\"text_2\">\n      <!-- 20 -->\n      <g style=\"fill: #262626\" transform=\"translate(77.860682 293.81277) scale(0.11 -0.11)\">\n       <defs>\n        <path id=\"DejaVuSans-32\" d=\"M 1228 531 \nL 3431 531 \nL 3431 0 \nL 469 0 \nL 469 531 \nQ 828 903 1448 1529 \nQ 2069 2156 2228 2338 \nQ 2531 2678 2651 2914 \nQ 2772 3150 2772 3378 \nQ 2772 3750 2511 3984 \nQ 2250 4219 1831 4219 \nQ 1534 4219 1204 4116 \nQ 875 4013 500 3803 \nL 500 4441 \nQ 881 4594 1212 4672 \nQ 1544 4750 1819 4750 \nQ 2544 4750 2975 4387 \nQ 3406 4025 3406 3419 \nQ 3406 3131 3298 2873 \nQ 3191 2616 2906 2266 \nQ 2828 2175 2409 1742 \nQ 1991 1309 1228 531 \nz\n\" transform=\"scale(0.015625)\"/>\n       </defs>\n       <use xlink:href=\"#DejaVuSans-32\"/>\n       <use xlink:href=\"#DejaVuSans-30\" x=\"63.623047\"/>\n      </g>\n     </g>\n    </g>\n    <g id=\"xtick_3\">\n     <g id=\"line2d_3\">\n      <path d=\"M 137.700341 275.954489 \nL 137.700341 22.318125 \n\" clip-path=\"url(#p8bd0ca5427)\" style=\"fill: none; stroke: #ffffff; stroke-linecap: round\"/>\n     </g>\n     <g id=\"text_3\">\n      <!-- 40 -->\n      <g style=\"fill: #262626\" transform=\"translate(130.701591 293.81277) scale(0.11 -0.11)\">\n       <defs>\n        <path id=\"DejaVuSans-34\" d=\"M 2419 4116 \nL 825 1625 \nL 2419 1625 \nL 2419 4116 \nz\nM 2253 4666 \nL 3047 4666 \nL 3047 1625 \nL 3713 1625 \nL 3713 1100 \nL 3047 1100 \nL 3047 0 \nL 2419 0 \nL 2419 1100 \nL 313 1100 \nL 313 1709 \nL 2253 4666 \nz\n\" transform=\"scale(0.015625)\"/>\n       </defs>\n       <use xlink:href=\"#DejaVuSans-34\"/>\n       <use xlink:href=\"#DejaVuSans-30\" x=\"63.623047\"/>\n      </g>\n     </g>\n    </g>\n    <g id=\"xtick_4\">\n     <g id=\"line2d_4\">\n      <path d=\"M 190.54125 275.954489 \nL 190.54125 22.318125 \n\" clip-path=\"url(#p8bd0ca5427)\" style=\"fill: none; stroke: #ffffff; stroke-linecap: round\"/>\n     </g>\n     <g id=\"text_4\">\n      <!-- 60 -->\n      <g style=\"fill: #262626\" transform=\"translate(183.5425 293.81277) scale(0.11 -0.11)\">\n       <defs>\n        <path id=\"DejaVuSans-36\" d=\"M 2113 2584 \nQ 1688 2584 1439 2293 \nQ 1191 2003 1191 1497 \nQ 1191 994 1439 701 \nQ 1688 409 2113 409 \nQ 2538 409 2786 701 \nQ 3034 994 3034 1497 \nQ 3034 2003 2786 2293 \nQ 2538 2584 2113 2584 \nz\nM 3366 4563 \nL 3366 3988 \nQ 3128 4100 2886 4159 \nQ 2644 4219 2406 4219 \nQ 1781 4219 1451 3797 \nQ 1122 3375 1075 2522 \nQ 1259 2794 1537 2939 \nQ 1816 3084 2150 3084 \nQ 2853 3084 3261 2657 \nQ 3669 2231 3669 1497 \nQ 3669 778 3244 343 \nQ 2819 -91 2113 -91 \nQ 1303 -91 875 529 \nQ 447 1150 447 2328 \nQ 447 3434 972 4092 \nQ 1497 4750 2381 4750 \nQ 2619 4750 2861 4703 \nQ 3103 4656 3366 4563 \nz\n\" transform=\"scale(0.015625)\"/>\n       </defs>\n       <use xlink:href=\"#DejaVuSans-36\"/>\n       <use xlink:href=\"#DejaVuSans-30\" x=\"63.623047\"/>\n      </g>\n     </g>\n    </g>\n    <g id=\"xtick_5\">\n     <g id=\"line2d_5\">\n      <path d=\"M 243.382159 275.954489 \nL 243.382159 22.318125 \n\" clip-path=\"url(#p8bd0ca5427)\" style=\"fill: none; stroke: #ffffff; stroke-linecap: round\"/>\n     </g>\n     <g id=\"text_5\">\n      <!-- 80 -->\n      <g style=\"fill: #262626\" transform=\"translate(236.383409 293.81277) scale(0.11 -0.11)\">\n       <defs>\n        <path id=\"DejaVuSans-38\" d=\"M 2034 2216 \nQ 1584 2216 1326 1975 \nQ 1069 1734 1069 1313 \nQ 1069 891 1326 650 \nQ 1584 409 2034 409 \nQ 2484 409 2743 651 \nQ 3003 894 3003 1313 \nQ 3003 1734 2745 1975 \nQ 2488 2216 2034 2216 \nz\nM 1403 2484 \nQ 997 2584 770 2862 \nQ 544 3141 544 3541 \nQ 544 4100 942 4425 \nQ 1341 4750 2034 4750 \nQ 2731 4750 3128 4425 \nQ 3525 4100 3525 3541 \nQ 3525 3141 3298 2862 \nQ 3072 2584 2669 2484 \nQ 3125 2378 3379 2068 \nQ 3634 1759 3634 1313 \nQ 3634 634 3220 271 \nQ 2806 -91 2034 -91 \nQ 1263 -91 848 271 \nQ 434 634 434 1313 \nQ 434 1759 690 2068 \nQ 947 2378 1403 2484 \nz\nM 1172 3481 \nQ 1172 3119 1398 2916 \nQ 1625 2713 2034 2713 \nQ 2441 2713 2670 2916 \nQ 2900 3119 2900 3481 \nQ 2900 3844 2670 4047 \nQ 2441 4250 2034 4250 \nQ 1625 4250 1398 4047 \nQ 1172 3844 1172 3481 \nz\n\" transform=\"scale(0.015625)\"/>\n       </defs>\n       <use xlink:href=\"#DejaVuSans-38\"/>\n       <use xlink:href=\"#DejaVuSans-30\" x=\"63.623047\"/>\n      </g>\n     </g>\n    </g>\n   </g>\n   <g id=\"matplotlib.axis_2\">\n    <g id=\"ytick_1\">\n     <g id=\"line2d_6\">\n      <path d=\"M 30.6975 23.639148 \nL 284.333864 23.639148 \n\" clip-path=\"url(#p8bd0ca5427)\" style=\"fill: none; stroke: #ffffff; stroke-linecap: round\"/>\n     </g>\n     <g id=\"text_6\">\n      <!-- 0 -->\n      <g style=\"fill: #262626\" transform=\"translate(14.19875 27.818288) scale(0.11 -0.11)\">\n       <use xlink:href=\"#DejaVuSans-30\"/>\n      </g>\n     </g>\n    </g>\n    <g id=\"ytick_2\">\n     <g id=\"line2d_7\">\n      <path d=\"M 30.6975 76.480057 \nL 284.333864 76.480057 \n\" clip-path=\"url(#p8bd0ca5427)\" style=\"fill: none; stroke: #ffffff; stroke-linecap: round\"/>\n     </g>\n     <g id=\"text_7\">\n      <!-- 20 -->\n      <g style=\"fill: #262626\" transform=\"translate(7.2 80.659197) scale(0.11 -0.11)\">\n       <use xlink:href=\"#DejaVuSans-32\"/>\n       <use xlink:href=\"#DejaVuSans-30\" x=\"63.623047\"/>\n      </g>\n     </g>\n    </g>\n    <g id=\"ytick_3\">\n     <g id=\"line2d_8\">\n      <path d=\"M 30.6975 129.320966 \nL 284.333864 129.320966 \n\" clip-path=\"url(#p8bd0ca5427)\" style=\"fill: none; stroke: #ffffff; stroke-linecap: round\"/>\n     </g>\n     <g id=\"text_8\">\n      <!-- 40 -->\n      <g style=\"fill: #262626\" transform=\"translate(7.2 133.500107) scale(0.11 -0.11)\">\n       <use xlink:href=\"#DejaVuSans-34\"/>\n       <use xlink:href=\"#DejaVuSans-30\" x=\"63.623047\"/>\n      </g>\n     </g>\n    </g>\n    <g id=\"ytick_4\">\n     <g id=\"line2d_9\">\n      <path d=\"M 30.6975 182.161875 \nL 284.333864 182.161875 \n\" clip-path=\"url(#p8bd0ca5427)\" style=\"fill: none; stroke: #ffffff; stroke-linecap: round\"/>\n     </g>\n     <g id=\"text_9\">\n      <!-- 60 -->\n      <g style=\"fill: #262626\" transform=\"translate(7.2 186.341016) scale(0.11 -0.11)\">\n       <use xlink:href=\"#DejaVuSans-36\"/>\n       <use xlink:href=\"#DejaVuSans-30\" x=\"63.623047\"/>\n      </g>\n     </g>\n    </g>\n    <g id=\"ytick_5\">\n     <g id=\"line2d_10\">\n      <path d=\"M 30.6975 235.002784 \nL 284.333864 235.002784 \n\" clip-path=\"url(#p8bd0ca5427)\" style=\"fill: none; stroke: #ffffff; stroke-linecap: round\"/>\n     </g>\n     <g id=\"text_10\">\n      <!-- 80 -->\n      <g style=\"fill: #262626\" transform=\"translate(7.2 239.181925) scale(0.11 -0.11)\">\n       <use xlink:href=\"#DejaVuSans-38\"/>\n       <use xlink:href=\"#DejaVuSans-30\" x=\"63.623047\"/>\n      </g>\n     </g>\n    </g>\n   </g>\n   <g id=\"patch_3\">\n    <path d=\"M 30.6975 275.954489 \nL 30.6975 22.318125 \n\" style=\"fill: none; stroke: #ffffff; stroke-width: 1.25; stroke-linejoin: miter; stroke-linecap: square\"/>\n   </g>\n   <g id=\"patch_4\">\n    <path d=\"M 284.333864 275.954489 \nL 284.333864 22.318125 \n\" style=\"fill: none; stroke: #ffffff; stroke-width: 1.25; stroke-linejoin: miter; stroke-linecap: square\"/>\n   </g>\n   <g id=\"patch_5\">\n    <path d=\"M 30.6975 275.954489 \nL 284.333864 275.954489 \n\" style=\"fill: none; stroke: #ffffff; stroke-width: 1.25; stroke-linejoin: miter; stroke-linecap: square\"/>\n   </g>\n   <g id=\"patch_6\">\n    <path d=\"M 30.6975 22.318125 \nL 284.333864 22.318125 \n\" style=\"fill: none; stroke: #ffffff; stroke-width: 1.25; stroke-linejoin: miter; stroke-linecap: square\"/>\n   </g>\n   <g id=\"text_11\">\n    <!-- Original Image -->\n    <g style=\"fill: #262626\" transform=\"translate(113.337869 16.318125) scale(0.12 -0.12)\">\n     <defs>\n      <path id=\"DejaVuSans-4f\" d=\"M 2522 4238 \nQ 1834 4238 1429 3725 \nQ 1025 3213 1025 2328 \nQ 1025 1447 1429 934 \nQ 1834 422 2522 422 \nQ 3209 422 3611 934 \nQ 4013 1447 4013 2328 \nQ 4013 3213 3611 3725 \nQ 3209 4238 2522 4238 \nz\nM 2522 4750 \nQ 3503 4750 4090 4092 \nQ 4678 3434 4678 2328 \nQ 4678 1225 4090 567 \nQ 3503 -91 2522 -91 \nQ 1538 -91 948 565 \nQ 359 1222 359 2328 \nQ 359 3434 948 4092 \nQ 1538 4750 2522 4750 \nz\n\" transform=\"scale(0.015625)\"/>\n      <path id=\"DejaVuSans-72\" d=\"M 2631 2963 \nQ 2534 3019 2420 3045 \nQ 2306 3072 2169 3072 \nQ 1681 3072 1420 2755 \nQ 1159 2438 1159 1844 \nL 1159 0 \nL 581 0 \nL 581 3500 \nL 1159 3500 \nL 1159 2956 \nQ 1341 3275 1631 3429 \nQ 1922 3584 2338 3584 \nQ 2397 3584 2469 3576 \nQ 2541 3569 2628 3553 \nL 2631 2963 \nz\n\" transform=\"scale(0.015625)\"/>\n      <path id=\"DejaVuSans-69\" d=\"M 603 3500 \nL 1178 3500 \nL 1178 0 \nL 603 0 \nL 603 3500 \nz\nM 603 4863 \nL 1178 4863 \nL 1178 4134 \nL 603 4134 \nL 603 4863 \nz\n\" transform=\"scale(0.015625)\"/>\n      <path id=\"DejaVuSans-67\" d=\"M 2906 1791 \nQ 2906 2416 2648 2759 \nQ 2391 3103 1925 3103 \nQ 1463 3103 1205 2759 \nQ 947 2416 947 1791 \nQ 947 1169 1205 825 \nQ 1463 481 1925 481 \nQ 2391 481 2648 825 \nQ 2906 1169 2906 1791 \nz\nM 3481 434 \nQ 3481 -459 3084 -895 \nQ 2688 -1331 1869 -1331 \nQ 1566 -1331 1297 -1286 \nQ 1028 -1241 775 -1147 \nL 775 -588 \nQ 1028 -725 1275 -790 \nQ 1522 -856 1778 -856 \nQ 2344 -856 2625 -561 \nQ 2906 -266 2906 331 \nL 2906 616 \nQ 2728 306 2450 153 \nQ 2172 0 1784 0 \nQ 1141 0 747 490 \nQ 353 981 353 1791 \nQ 353 2603 747 3093 \nQ 1141 3584 1784 3584 \nQ 2172 3584 2450 3431 \nQ 2728 3278 2906 2969 \nL 2906 3500 \nL 3481 3500 \nL 3481 434 \nz\n\" transform=\"scale(0.015625)\"/>\n      <path id=\"DejaVuSans-6e\" d=\"M 3513 2113 \nL 3513 0 \nL 2938 0 \nL 2938 2094 \nQ 2938 2591 2744 2837 \nQ 2550 3084 2163 3084 \nQ 1697 3084 1428 2787 \nQ 1159 2491 1159 1978 \nL 1159 0 \nL 581 0 \nL 581 3500 \nL 1159 3500 \nL 1159 2956 \nQ 1366 3272 1645 3428 \nQ 1925 3584 2291 3584 \nQ 2894 3584 3203 3211 \nQ 3513 2838 3513 2113 \nz\n\" transform=\"scale(0.015625)\"/>\n      <path id=\"DejaVuSans-61\" d=\"M 2194 1759 \nQ 1497 1759 1228 1600 \nQ 959 1441 959 1056 \nQ 959 750 1161 570 \nQ 1363 391 1709 391 \nQ 2188 391 2477 730 \nQ 2766 1069 2766 1631 \nL 2766 1759 \nL 2194 1759 \nz\nM 3341 1997 \nL 3341 0 \nL 2766 0 \nL 2766 531 \nQ 2569 213 2275 61 \nQ 1981 -91 1556 -91 \nQ 1019 -91 701 211 \nQ 384 513 384 1019 \nQ 384 1609 779 1909 \nQ 1175 2209 1959 2209 \nL 2766 2209 \nL 2766 2266 \nQ 2766 2663 2505 2880 \nQ 2244 3097 1772 3097 \nQ 1472 3097 1187 3025 \nQ 903 2953 641 2809 \nL 641 3341 \nQ 956 3463 1253 3523 \nQ 1550 3584 1831 3584 \nQ 2591 3584 2966 3190 \nQ 3341 2797 3341 1997 \nz\n\" transform=\"scale(0.015625)\"/>\n      <path id=\"DejaVuSans-6c\" d=\"M 603 4863 \nL 1178 4863 \nL 1178 0 \nL 603 0 \nL 603 4863 \nz\n\" transform=\"scale(0.015625)\"/>\n      <path id=\"DejaVuSans-20\" transform=\"scale(0.015625)\"/>\n      <path id=\"DejaVuSans-49\" d=\"M 628 4666 \nL 1259 4666 \nL 1259 0 \nL 628 0 \nL 628 4666 \nz\n\" transform=\"scale(0.015625)\"/>\n      <path id=\"DejaVuSans-6d\" d=\"M 3328 2828 \nQ 3544 3216 3844 3400 \nQ 4144 3584 4550 3584 \nQ 5097 3584 5394 3201 \nQ 5691 2819 5691 2113 \nL 5691 0 \nL 5113 0 \nL 5113 2094 \nQ 5113 2597 4934 2840 \nQ 4756 3084 4391 3084 \nQ 3944 3084 3684 2787 \nQ 3425 2491 3425 1978 \nL 3425 0 \nL 2847 0 \nL 2847 2094 \nQ 2847 2600 2669 2842 \nQ 2491 3084 2119 3084 \nQ 1678 3084 1418 2786 \nQ 1159 2488 1159 1978 \nL 1159 0 \nL 581 0 \nL 581 3500 \nL 1159 3500 \nL 1159 2956 \nQ 1356 3278 1631 3431 \nQ 1906 3584 2284 3584 \nQ 2666 3584 2933 3390 \nQ 3200 3197 3328 2828 \nz\n\" transform=\"scale(0.015625)\"/>\n      <path id=\"DejaVuSans-65\" d=\"M 3597 1894 \nL 3597 1613 \nL 953 1613 \nQ 991 1019 1311 708 \nQ 1631 397 2203 397 \nQ 2534 397 2845 478 \nQ 3156 559 3463 722 \nL 3463 178 \nQ 3153 47 2828 -22 \nQ 2503 -91 2169 -91 \nQ 1331 -91 842 396 \nQ 353 884 353 1716 \nQ 353 2575 817 3079 \nQ 1281 3584 2069 3584 \nQ 2775 3584 3186 3129 \nQ 3597 2675 3597 1894 \nz\nM 3022 2063 \nQ 3016 2534 2758 2815 \nQ 2500 3097 2075 3097 \nQ 1594 3097 1305 2825 \nQ 1016 2553 972 2059 \nL 3022 2063 \nz\n\" transform=\"scale(0.015625)\"/>\n     </defs>\n     <use xlink:href=\"#DejaVuSans-4f\"/>\n     <use xlink:href=\"#DejaVuSans-72\" x=\"78.710938\"/>\n     <use xlink:href=\"#DejaVuSans-69\" x=\"119.824219\"/>\n     <use xlink:href=\"#DejaVuSans-67\" x=\"147.607422\"/>\n     <use xlink:href=\"#DejaVuSans-69\" x=\"211.083984\"/>\n     <use xlink:href=\"#DejaVuSans-6e\" x=\"238.867188\"/>\n     <use xlink:href=\"#DejaVuSans-61\" x=\"302.246094\"/>\n     <use xlink:href=\"#DejaVuSans-6c\" x=\"363.525391\"/>\n     <use xlink:href=\"#DejaVuSans-20\" x=\"391.308594\"/>\n     <use xlink:href=\"#DejaVuSans-49\" x=\"423.095703\"/>\n     <use xlink:href=\"#DejaVuSans-6d\" x=\"452.587891\"/>\n     <use xlink:href=\"#DejaVuSans-61\" x=\"550\"/>\n     <use xlink:href=\"#DejaVuSans-67\" x=\"611.279297\"/>\n     <use xlink:href=\"#DejaVuSans-65\" x=\"674.755859\"/>\n    </g>\n   </g>\n  </g>\n  <g id=\"axes_2\">\n   <g id=\"patch_7\">\n    <path d=\"M 335.061136 275.954489 \nL 588.6975 275.954489 \nL 588.6975 22.318125 \nL 335.061136 22.318125 \nz\n\" style=\"fill: #eaeaf2\"/>\n   </g>\n   <g clip-path=\"url(#p498119bfba)\">\n    <image xlink:href=\"data:image/png;base64,\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\" id=\"imagef1d06f27a6\" transform=\"scale(1 -1) translate(0 -254.16)\" x=\"335.061136\" y=\"-21.794489\" width=\"254.16\" height=\"254.16\"/>\n   </g>\n   <g id=\"matplotlib.axis_3\">\n    <g id=\"xtick_6\">\n     <g id=\"line2d_11\">\n      <path d=\"M 336.382159 275.954489 \nL 336.382159 22.318125 \n\" clip-path=\"url(#p498119bfba)\" style=\"fill: none; stroke: #ffffff; stroke-linecap: round\"/>\n     </g>\n     <g id=\"text_12\">\n      <!-- 0 -->\n      <g style=\"fill: #262626\" transform=\"translate(332.882784 293.81277) scale(0.11 -0.11)\">\n       <use xlink:href=\"#DejaVuSans-30\"/>\n      </g>\n     </g>\n    </g>\n    <g id=\"xtick_7\">\n     <g id=\"line2d_12\">\n      <path d=\"M 389.223068 275.954489 \nL 389.223068 22.318125 \n\" clip-path=\"url(#p498119bfba)\" style=\"fill: none; stroke: #ffffff; stroke-linecap: round\"/>\n     </g>\n     <g id=\"text_13\">\n      <!-- 20 -->\n      <g style=\"fill: #262626\" transform=\"translate(382.224318 293.81277) scale(0.11 -0.11)\">\n       <use xlink:href=\"#DejaVuSans-32\"/>\n       <use xlink:href=\"#DejaVuSans-30\" x=\"63.623047\"/>\n      </g>\n     </g>\n    </g>\n    <g id=\"xtick_8\">\n     <g id=\"line2d_13\">\n      <path d=\"M 442.063977 275.954489 \nL 442.063977 22.318125 \n\" clip-path=\"url(#p498119bfba)\" style=\"fill: none; stroke: #ffffff; stroke-linecap: round\"/>\n     </g>\n     <g id=\"text_14\">\n      <!-- 40 -->\n      <g style=\"fill: #262626\" transform=\"translate(435.065227 293.81277) scale(0.11 -0.11)\">\n       <use xlink:href=\"#DejaVuSans-34\"/>\n       <use xlink:href=\"#DejaVuSans-30\" x=\"63.623047\"/>\n      </g>\n     </g>\n    </g>\n    <g id=\"xtick_9\">\n     <g id=\"line2d_14\">\n      <path d=\"M 494.904886 275.954489 \nL 494.904886 22.318125 \n\" clip-path=\"url(#p498119bfba)\" style=\"fill: none; stroke: #ffffff; stroke-linecap: round\"/>\n     </g>\n     <g id=\"text_15\">\n      <!-- 60 -->\n      <g style=\"fill: #262626\" transform=\"translate(487.906136 293.81277) scale(0.11 -0.11)\">\n       <use xlink:href=\"#DejaVuSans-36\"/>\n       <use xlink:href=\"#DejaVuSans-30\" x=\"63.623047\"/>\n      </g>\n     </g>\n    </g>\n    <g id=\"xtick_10\">\n     <g id=\"line2d_15\">\n      <path d=\"M 547.745795 275.954489 \nL 547.745795 22.318125 \n\" clip-path=\"url(#p498119bfba)\" style=\"fill: none; stroke: #ffffff; stroke-linecap: round\"/>\n     </g>\n     <g id=\"text_16\">\n      <!-- 80 -->\n      <g style=\"fill: #262626\" transform=\"translate(540.747045 293.81277) scale(0.11 -0.11)\">\n       <use xlink:href=\"#DejaVuSans-38\"/>\n       <use xlink:href=\"#DejaVuSans-30\" x=\"63.623047\"/>\n      </g>\n     </g>\n    </g>\n   </g>\n   <g id=\"matplotlib.axis_4\">\n    <g id=\"ytick_6\">\n     <g id=\"line2d_16\">\n      <path d=\"M 335.061136 23.639148 \nL 588.6975 23.639148 \n\" clip-path=\"url(#p498119bfba)\" style=\"fill: none; stroke: #ffffff; stroke-linecap: round\"/>\n     </g>\n     <g id=\"text_17\">\n      <!-- 0 -->\n      <g style=\"fill: #262626\" transform=\"translate(318.562386 27.818288) scale(0.11 -0.11)\">\n       <use xlink:href=\"#DejaVuSans-30\"/>\n      </g>\n     </g>\n    </g>\n    <g id=\"ytick_7\">\n     <g id=\"line2d_17\">\n      <path d=\"M 335.061136 76.480057 \nL 588.6975 76.480057 \n\" clip-path=\"url(#p498119bfba)\" style=\"fill: none; stroke: #ffffff; stroke-linecap: round\"/>\n     </g>\n     <g id=\"text_18\">\n      <!-- 20 -->\n      <g style=\"fill: #262626\" transform=\"translate(311.563636 80.659197) scale(0.11 -0.11)\">\n       <use xlink:href=\"#DejaVuSans-32\"/>\n       <use xlink:href=\"#DejaVuSans-30\" x=\"63.623047\"/>\n      </g>\n     </g>\n    </g>\n    <g id=\"ytick_8\">\n     <g id=\"line2d_18\">\n      <path d=\"M 335.061136 129.320966 \nL 588.6975 129.320966 \n\" clip-path=\"url(#p498119bfba)\" style=\"fill: none; stroke: #ffffff; stroke-linecap: round\"/>\n     </g>\n     <g id=\"text_19\">\n      <!-- 40 -->\n      <g style=\"fill: #262626\" transform=\"translate(311.563636 133.500107) scale(0.11 -0.11)\">\n       <use xlink:href=\"#DejaVuSans-34\"/>\n       <use xlink:href=\"#DejaVuSans-30\" x=\"63.623047\"/>\n      </g>\n     </g>\n    </g>\n    <g id=\"ytick_9\">\n     <g id=\"line2d_19\">\n      <path d=\"M 335.061136 182.161875 \nL 588.6975 182.161875 \n\" clip-path=\"url(#p498119bfba)\" style=\"fill: none; stroke: #ffffff; stroke-linecap: round\"/>\n     </g>\n     <g id=\"text_20\">\n      <!-- 60 -->\n      <g style=\"fill: #262626\" transform=\"translate(311.563636 186.341016) scale(0.11 -0.11)\">\n       <use xlink:href=\"#DejaVuSans-36\"/>\n       <use xlink:href=\"#DejaVuSans-30\" x=\"63.623047\"/>\n      </g>\n     </g>\n    </g>\n    <g id=\"ytick_10\">\n     <g id=\"line2d_20\">\n      <path d=\"M 335.061136 235.002784 \nL 588.6975 235.002784 \n\" clip-path=\"url(#p498119bfba)\" style=\"fill: none; stroke: #ffffff; stroke-linecap: round\"/>\n     </g>\n     <g id=\"text_21\">\n      <!-- 80 -->\n      <g style=\"fill: #262626\" transform=\"translate(311.563636 239.181925) scale(0.11 -0.11)\">\n       <use xlink:href=\"#DejaVuSans-38\"/>\n       <use xlink:href=\"#DejaVuSans-30\" x=\"63.623047\"/>\n      </g>\n     </g>\n    </g>\n   </g>\n   <g id=\"patch_8\">\n    <path d=\"M 335.061136 275.954489 \nL 335.061136 22.318125 \n\" style=\"fill: none; stroke: #ffffff; stroke-width: 1.25; stroke-linejoin: miter; stroke-linecap: square\"/>\n   </g>\n   <g id=\"patch_9\">\n    <path d=\"M 588.6975 275.954489 \nL 588.6975 22.318125 \n\" style=\"fill: none; stroke: #ffffff; stroke-width: 1.25; stroke-linejoin: miter; stroke-linecap: square\"/>\n   </g>\n   <g id=\"patch_10\">\n    <path d=\"M 335.061136 275.954489 \nL 588.6975 275.954489 \n\" style=\"fill: none; stroke: #ffffff; stroke-width: 1.25; stroke-linejoin: miter; stroke-linecap: square\"/>\n   </g>\n   <g id=\"patch_11\">\n    <path d=\"M 335.061136 22.318125 \nL 588.6975 22.318125 \n\" style=\"fill: none; stroke: #ffffff; stroke-width: 1.25; stroke-linejoin: miter; stroke-linecap: square\"/>\n   </g>\n   <g id=\"text_22\">\n    <!-- Attributions -->\n    <g style=\"fill: #262626\" transform=\"translate(426.812131 16.318125) scale(0.12 -0.12)\">\n     <defs>\n      <path id=\"DejaVuSans-41\" d=\"M 2188 4044 \nL 1331 1722 \nL 3047 1722 \nL 2188 4044 \nz\nM 1831 4666 \nL 2547 4666 \nL 4325 0 \nL 3669 0 \nL 3244 1197 \nL 1141 1197 \nL 716 0 \nL 50 0 \nL 1831 4666 \nz\n\" transform=\"scale(0.015625)\"/>\n      <path id=\"DejaVuSans-74\" d=\"M 1172 4494 \nL 1172 3500 \nL 2356 3500 \nL 2356 3053 \nL 1172 3053 \nL 1172 1153 \nQ 1172 725 1289 603 \nQ 1406 481 1766 481 \nL 2356 481 \nL 2356 0 \nL 1766 0 \nQ 1100 0 847 248 \nQ 594 497 594 1153 \nL 594 3053 \nL 172 3053 \nL 172 3500 \nL 594 3500 \nL 594 4494 \nL 1172 4494 \nz\n\" transform=\"scale(0.015625)\"/>\n      <path id=\"DejaVuSans-62\" d=\"M 3116 1747 \nQ 3116 2381 2855 2742 \nQ 2594 3103 2138 3103 \nQ 1681 3103 1420 2742 \nQ 1159 2381 1159 1747 \nQ 1159 1113 1420 752 \nQ 1681 391 2138 391 \nQ 2594 391 2855 752 \nQ 3116 1113 3116 1747 \nz\nM 1159 2969 \nQ 1341 3281 1617 3432 \nQ 1894 3584 2278 3584 \nQ 2916 3584 3314 3078 \nQ 3713 2572 3713 1747 \nQ 3713 922 3314 415 \nQ 2916 -91 2278 -91 \nQ 1894 -91 1617 61 \nQ 1341 213 1159 525 \nL 1159 0 \nL 581 0 \nL 581 4863 \nL 1159 4863 \nL 1159 2969 \nz\n\" transform=\"scale(0.015625)\"/>\n      <path id=\"DejaVuSans-75\" d=\"M 544 1381 \nL 544 3500 \nL 1119 3500 \nL 1119 1403 \nQ 1119 906 1312 657 \nQ 1506 409 1894 409 \nQ 2359 409 2629 706 \nQ 2900 1003 2900 1516 \nL 2900 3500 \nL 3475 3500 \nL 3475 0 \nL 2900 0 \nL 2900 538 \nQ 2691 219 2414 64 \nQ 2138 -91 1772 -91 \nQ 1169 -91 856 284 \nQ 544 659 544 1381 \nz\nM 1991 3584 \nL 1991 3584 \nz\n\" transform=\"scale(0.015625)\"/>\n      <path id=\"DejaVuSans-6f\" d=\"M 1959 3097 \nQ 1497 3097 1228 2736 \nQ 959 2375 959 1747 \nQ 959 1119 1226 758 \nQ 1494 397 1959 397 \nQ 2419 397 2687 759 \nQ 2956 1122 2956 1747 \nQ 2956 2369 2687 2733 \nQ 2419 3097 1959 3097 \nz\nM 1959 3584 \nQ 2709 3584 3137 3096 \nQ 3566 2609 3566 1747 \nQ 3566 888 3137 398 \nQ 2709 -91 1959 -91 \nQ 1206 -91 779 398 \nQ 353 888 353 1747 \nQ 353 2609 779 3096 \nQ 1206 3584 1959 3584 \nz\n\" transform=\"scale(0.015625)\"/>\n      <path id=\"DejaVuSans-73\" d=\"M 2834 3397 \nL 2834 2853 \nQ 2591 2978 2328 3040 \nQ 2066 3103 1784 3103 \nQ 1356 3103 1142 2972 \nQ 928 2841 928 2578 \nQ 928 2378 1081 2264 \nQ 1234 2150 1697 2047 \nL 1894 2003 \nQ 2506 1872 2764 1633 \nQ 3022 1394 3022 966 \nQ 3022 478 2636 193 \nQ 2250 -91 1575 -91 \nQ 1294 -91 989 -36 \nQ 684 19 347 128 \nL 347 722 \nQ 666 556 975 473 \nQ 1284 391 1588 391 \nQ 1994 391 2212 530 \nQ 2431 669 2431 922 \nQ 2431 1156 2273 1281 \nQ 2116 1406 1581 1522 \nL 1381 1569 \nQ 847 1681 609 1914 \nQ 372 2147 372 2553 \nQ 372 3047 722 3315 \nQ 1072 3584 1716 3584 \nQ 2034 3584 2315 3537 \nQ 2597 3491 2834 3397 \nz\n\" transform=\"scale(0.015625)\"/>\n     </defs>\n     <use xlink:href=\"#DejaVuSans-41\"/>\n     <use xlink:href=\"#DejaVuSans-74\" x=\"66.658203\"/>\n     <use xlink:href=\"#DejaVuSans-74\" x=\"105.867188\"/>\n     <use xlink:href=\"#DejaVuSans-72\" x=\"145.076172\"/>\n     <use xlink:href=\"#DejaVuSans-69\" x=\"186.189453\"/>\n     <use xlink:href=\"#DejaVuSans-62\" x=\"213.972656\"/>\n     <use xlink:href=\"#DejaVuSans-75\" x=\"277.449219\"/>\n     <use xlink:href=\"#DejaVuSans-74\" x=\"340.828125\"/>\n     <use xlink:href=\"#DejaVuSans-69\" x=\"380.037109\"/>\n     <use xlink:href=\"#DejaVuSans-6f\" x=\"407.820312\"/>\n     <use xlink:href=\"#DejaVuSans-6e\" x=\"469.001953\"/>\n     <use xlink:href=\"#DejaVuSans-73\" x=\"532.380859\"/>\n    </g>\n   </g>\n  </g>\n </g>\n <defs>\n  <clipPath id=\"p8bd0ca5427\">\n   <rect x=\"30.6975\" y=\"22.318125\" width=\"253.636364\" height=\"253.636364\"/>\n  </clipPath>\n  <clipPath id=\"p498119bfba\">\n   <rect x=\"335.061136\" y=\"22.318125\" width=\"253.636364\" height=\"253.636364\"/>\n  </clipPath>\n </defs>\n</svg>\n",
            "application/pdf": "[encoded data removed]"
          },
          "metadata": {}
        }
      ],
      "source": [
        "# Reinitialize the model\n",
        "simclr_model = SimCLR()\n",
        "\n",
        "# Load the saved state_dict\n",
        "simclr_model.load_state_dict(torch.load(\"simclr_model.pth\"))\n",
        "simclr_model.eval()  # Set the model to evaluation mode\n",
        "\n",
        "run_explainability(model=simclr_model)"
      ]
    },
    {
      "cell_type": "code",
      "execution_count": null,
      "metadata": {
        "id": "2tA3HwGpQ3cE"
      },
      "outputs": [],
      "source": [
        "# run_explainability(model=mlp_model)"
      ]
    }
  ],
  "metadata": {
    "accelerator": "GPU",
    "colab": {
      "gpuType": "T4",
      "provenance": []
    },
    "kernelspec": {
      "display_name": "ml-venv",
      "language": "python",
      "name": "python3"
    },
    "language_info": {
      "codemirror_mode": {
        "name": "ipython",
        "version": 3
      },
      "file_extension": ".py",
      "mimetype": "text/x-python",
      "name": "python",
      "nbconvert_exporter": "python",
      "pygments_lexer": "ipython3",
      "version": "3.12.6"
    },
    "widgets": {
      "application/vnd.jupyter.widget-state+json": {
        "51c6e27cdaff42a783484f95e672de2a": {
          "model_module": "@jupyter-widgets/controls",
          "model_name": "HBoxModel",
          "model_module_version": "1.5.0",
          "state": {
            "_dom_classes": [],
            "_model_module": "@jupyter-widgets/controls",
            "_model_module_version": "1.5.0",
            "_model_name": "HBoxModel",
            "_view_count": null,
            "_view_module": "@jupyter-widgets/controls",
            "_view_module_version": "1.5.0",
            "_view_name": "HBoxView",
            "box_style": "",
            "children": [
              "IPY_MODEL_e48b1d7ee3d940f497bee55865f14a5f",
              "IPY_MODEL_dd72583edef449c9ad0a98f18b6c9a82",
              "IPY_MODEL_e3e4765d833f47e7b4362962f730f290"
            ],
            "layout": "IPY_MODEL_94cd6704de7d443e919b3b7f8c8ad774"
          }
        },
        "e48b1d7ee3d940f497bee55865f14a5f": {
          "model_module": "@jupyter-widgets/controls",
          "model_name": "HTMLModel",
          "model_module_version": "1.5.0",
          "state": {
            "_dom_classes": [],
            "_model_module": "@jupyter-widgets/controls",
            "_model_module_version": "1.5.0",
            "_model_name": "HTMLModel",
            "_view_count": null,
            "_view_module": "@jupyter-widgets/controls",
            "_view_module_version": "1.5.0",
            "_view_name": "HTMLView",
            "description": "",
            "description_tooltip": null,
            "layout": "IPY_MODEL_6de91458075d474f9b8cc15c00053f51",
            "placeholder": "​",
            "style": "IPY_MODEL_5c3a48b5cf2d4fb0a94c87482c8f8539",
            "value": "Epoch 0: 100%"
          }
        },
        "dd72583edef449c9ad0a98f18b6c9a82": {
          "model_module": "@jupyter-widgets/controls",
          "model_name": "FloatProgressModel",
          "model_module_version": "1.5.0",
          "state": {
            "_dom_classes": [],
            "_model_module": "@jupyter-widgets/controls",
            "_model_module_version": "1.5.0",
            "_model_name": "FloatProgressModel",
            "_view_count": null,
            "_view_module": "@jupyter-widgets/controls",
            "_view_module_version": "1.5.0",
            "_view_name": "ProgressView",
            "bar_style": "success",
            "description": "",
            "description_tooltip": null,
            "layout": "IPY_MODEL_920d2a0d070c4712878919f3bcecf19e",
            "max": 391,
            "min": 0,
            "orientation": "horizontal",
            "style": "IPY_MODEL_417f4f70b8a14748a173db024e15e9e7",
            "value": 391
          }
        },
        "e3e4765d833f47e7b4362962f730f290": {
          "model_module": "@jupyter-widgets/controls",
          "model_name": "HTMLModel",
          "model_module_version": "1.5.0",
          "state": {
            "_dom_classes": [],
            "_model_module": "@jupyter-widgets/controls",
            "_model_module_version": "1.5.0",
            "_model_name": "HTMLModel",
            "_view_count": null,
            "_view_module": "@jupyter-widgets/controls",
            "_view_module_version": "1.5.0",
            "_view_name": "HTMLView",
            "description": "",
            "description_tooltip": null,
            "layout": "IPY_MODEL_849f86af23ba4f309da635476430f85f",
            "placeholder": "​",
            "style": "IPY_MODEL_09ec8540fee34b7f88eae8bb1cdd551c",
            "value": " 391/391 [06:20&lt;00:00,  1.03it/s, v_num=0]"
          }
        },
        "94cd6704de7d443e919b3b7f8c8ad774": {
          "model_module": "@jupyter-widgets/base",
          "model_name": "LayoutModel",
          "model_module_version": "1.2.0",
          "state": {
            "_model_module": "@jupyter-widgets/base",
            "_model_module_version": "1.2.0",
            "_model_name": "LayoutModel",
            "_view_count": null,
            "_view_module": "@jupyter-widgets/base",
            "_view_module_version": "1.2.0",
            "_view_name": "LayoutView",
            "align_content": null,
            "align_items": null,
            "align_self": null,
            "border": null,
            "bottom": null,
            "display": "inline-flex",
            "flex": null,
            "flex_flow": "row wrap",
            "grid_area": null,
            "grid_auto_columns": null,
            "grid_auto_flow": null,
            "grid_auto_rows": null,
            "grid_column": null,
            "grid_gap": null,
            "grid_row": null,
            "grid_template_areas": null,
            "grid_template_columns": null,
            "grid_template_rows": null,
            "height": null,
            "justify_content": null,
            "justify_items": null,
            "left": null,
            "margin": null,
            "max_height": null,
            "max_width": null,
            "min_height": null,
            "min_width": null,
            "object_fit": null,
            "object_position": null,
            "order": null,
            "overflow": null,
            "overflow_x": null,
            "overflow_y": null,
            "padding": null,
            "right": null,
            "top": null,
            "visibility": null,
            "width": "100%"
          }
        },
        "6de91458075d474f9b8cc15c00053f51": {
          "model_module": "@jupyter-widgets/base",
          "model_name": "LayoutModel",
          "model_module_version": "1.2.0",
          "state": {
            "_model_module": "@jupyter-widgets/base",
            "_model_module_version": "1.2.0",
            "_model_name": "LayoutModel",
            "_view_count": null,
            "_view_module": "@jupyter-widgets/base",
            "_view_module_version": "1.2.0",
            "_view_name": "LayoutView",
            "align_content": null,
            "align_items": null,
            "align_self": null,
            "border": null,
            "bottom": null,
            "display": null,
            "flex": null,
            "flex_flow": null,
            "grid_area": null,
            "grid_auto_columns": null,
            "grid_auto_flow": null,
            "grid_auto_rows": null,
            "grid_column": null,
            "grid_gap": null,
            "grid_row": null,
            "grid_template_areas": null,
            "grid_template_columns": null,
            "grid_template_rows": null,
            "height": null,
            "justify_content": null,
            "justify_items": null,
            "left": null,
            "margin": null,
            "max_height": null,
            "max_width": null,
            "min_height": null,
            "min_width": null,
            "object_fit": null,
            "object_position": null,
            "order": null,
            "overflow": null,
            "overflow_x": null,
            "overflow_y": null,
            "padding": null,
            "right": null,
            "top": null,
            "visibility": null,
            "width": null
          }
        },
        "5c3a48b5cf2d4fb0a94c87482c8f8539": {
          "model_module": "@jupyter-widgets/controls",
          "model_name": "DescriptionStyleModel",
          "model_module_version": "1.5.0",
          "state": {
            "_model_module": "@jupyter-widgets/controls",
            "_model_module_version": "1.5.0",
            "_model_name": "DescriptionStyleModel",
            "_view_count": null,
            "_view_module": "@jupyter-widgets/base",
            "_view_module_version": "1.2.0",
            "_view_name": "StyleView",
            "description_width": ""
          }
        },
        "920d2a0d070c4712878919f3bcecf19e": {
          "model_module": "@jupyter-widgets/base",
          "model_name": "LayoutModel",
          "model_module_version": "1.2.0",
          "state": {
            "_model_module": "@jupyter-widgets/base",
            "_model_module_version": "1.2.0",
            "_model_name": "LayoutModel",
            "_view_count": null,
            "_view_module": "@jupyter-widgets/base",
            "_view_module_version": "1.2.0",
            "_view_name": "LayoutView",
            "align_content": null,
            "align_items": null,
            "align_self": null,
            "border": null,
            "bottom": null,
            "display": null,
            "flex": "2",
            "flex_flow": null,
            "grid_area": null,
            "grid_auto_columns": null,
            "grid_auto_flow": null,
            "grid_auto_rows": null,
            "grid_column": null,
            "grid_gap": null,
            "grid_row": null,
            "grid_template_areas": null,
            "grid_template_columns": null,
            "grid_template_rows": null,
            "height": null,
            "justify_content": null,
            "justify_items": null,
            "left": null,
            "margin": null,
            "max_height": null,
            "max_width": null,
            "min_height": null,
            "min_width": null,
            "object_fit": null,
            "object_position": null,
            "order": null,
            "overflow": null,
            "overflow_x": null,
            "overflow_y": null,
            "padding": null,
            "right": null,
            "top": null,
            "visibility": null,
            "width": null
          }
        },
        "417f4f70b8a14748a173db024e15e9e7": {
          "model_module": "@jupyter-widgets/controls",
          "model_name": "ProgressStyleModel",
          "model_module_version": "1.5.0",
          "state": {
            "_model_module": "@jupyter-widgets/controls",
            "_model_module_version": "1.5.0",
            "_model_name": "ProgressStyleModel",
            "_view_count": null,
            "_view_module": "@jupyter-widgets/base",
            "_view_module_version": "1.2.0",
            "_view_name": "StyleView",
            "bar_color": null,
            "description_width": ""
          }
        },
        "849f86af23ba4f309da635476430f85f": {
          "model_module": "@jupyter-widgets/base",
          "model_name": "LayoutModel",
          "model_module_version": "1.2.0",
          "state": {
            "_model_module": "@jupyter-widgets/base",
            "_model_module_version": "1.2.0",
            "_model_name": "LayoutModel",
            "_view_count": null,
            "_view_module": "@jupyter-widgets/base",
            "_view_module_version": "1.2.0",
            "_view_name": "LayoutView",
            "align_content": null,
            "align_items": null,
            "align_self": null,
            "border": null,
            "bottom": null,
            "display": null,
            "flex": null,
            "flex_flow": null,
            "grid_area": null,
            "grid_auto_columns": null,
            "grid_auto_flow": null,
            "grid_auto_rows": null,
            "grid_column": null,
            "grid_gap": null,
            "grid_row": null,
            "grid_template_areas": null,
            "grid_template_columns": null,
            "grid_template_rows": null,
            "height": null,
            "justify_content": null,
            "justify_items": null,
            "left": null,
            "margin": null,
            "max_height": null,
            "max_width": null,
            "min_height": null,
            "min_width": null,
            "object_fit": null,
            "object_position": null,
            "order": null,
            "overflow": null,
            "overflow_x": null,
            "overflow_y": null,
            "padding": null,
            "right": null,
            "top": null,
            "visibility": null,
            "width": null
          }
        },
        "09ec8540fee34b7f88eae8bb1cdd551c": {
          "model_module": "@jupyter-widgets/controls",
          "model_name": "DescriptionStyleModel",
          "model_module_version": "1.5.0",
          "state": {
            "_model_module": "@jupyter-widgets/controls",
            "_model_module_version": "1.5.0",
            "_model_name": "DescriptionStyleModel",
            "_view_count": null,
            "_view_module": "@jupyter-widgets/base",
            "_view_module_version": "1.2.0",
            "_view_name": "StyleView",
            "description_width": ""
          }
        }
      }
    }
  },
  "nbformat": 4,
  "nbformat_minor": 0
}